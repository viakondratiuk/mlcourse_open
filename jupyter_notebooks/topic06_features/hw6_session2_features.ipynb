{
 "cells": [
  {
   "cell_type": "markdown",
   "metadata": {},
   "source": [
    "<center>\n",
    "<img src=\"../../img/ods_stickers.jpg\">\n",
    "## Открытый курс по машинному обучению. Сессия № 2\n",
    "\n",
    "Автор материала: Арсений Кравченко, DS team lead @ Juno. Материал распространяется на условиях лицензии [Creative Commons CC BY-NC-SA 4.0](https://creativecommons.org/licenses/by-nc-sa/4.0/). Можно использовать в любых целях (редактировать, поправлять и брать за основу), кроме коммерческих, но с обязательным упоминанием автора материала."
   ]
  },
  {
   "cell_type": "markdown",
   "metadata": {},
   "source": [
    "# <center> Домашнее задание №6\n",
    "## <center> Исследование признаков на примере поездок такси в Чикаго"
   ]
  },
  {
   "cell_type": "markdown",
   "metadata": {},
   "source": [
    "Чтобы начать работу, нужно скачать данные о поездках на такси в Чикаго за первые три месяца 2016 года, а также файл `column_remapping.json` и положить их в папку `data` в репозитории (комитить эти файлы не рекомендуется – они немаленькие).\n",
    "\n",
    "Данные доступны на Kaggle в [этом](https://www.kaggle.com/chicago/chicago-taxi-rides-2016) соревновании. Описание данных [тут](https://data.cityofchicago.org/Transportation/Taxi-Trips/wrvz-psew).\n",
    "\n",
    "Заполните код в клетках (где написано \"Ваш код здесь\") и ответьте на вопросы в [веб-форме](https://docs.google.com/forms/d/1yQkyn-FoutHi5BzSHq_YVNdN6ZGJe6za4y018nAi5UM)."
   ]
  },
  {
   "cell_type": "code",
   "execution_count": 34,
   "metadata": {},
   "outputs": [
    {
     "data": {
      "text/html": [
       "<div>\n",
       "<style>\n",
       "    .dataframe thead tr:only-child th {\n",
       "        text-align: right;\n",
       "    }\n",
       "\n",
       "    .dataframe thead th {\n",
       "        text-align: left;\n",
       "    }\n",
       "\n",
       "    .dataframe tbody tr th {\n",
       "        vertical-align: top;\n",
       "    }\n",
       "</style>\n",
       "<table border=\"1\" class=\"dataframe\">\n",
       "  <thead>\n",
       "    <tr style=\"text-align: right;\">\n",
       "      <th></th>\n",
       "      <th>ФИО</th>\n",
       "      <th>ДЗ1</th>\n",
       "      <th>ДЗ2</th>\n",
       "      <th>ДЗ3</th>\n",
       "      <th>ДЗ4</th>\n",
       "      <th>ДЗ5</th>\n",
       "      <th>ДЗ6</th>\n",
       "      <th>ДЗ7</th>\n",
       "      <th>ДЗ8</th>\n",
       "      <th>#vis1</th>\n",
       "      <th>#vis2</th>\n",
       "      <th>kaggle</th>\n",
       "      <th>arktur</th>\n",
       "      <th>proj_ind</th>\n",
       "      <th>proj_alice</th>\n",
       "      <th>tutorials</th>\n",
       "      <th>ИТОГ</th>\n",
       "    </tr>\n",
       "  </thead>\n",
       "  <tbody>\n",
       "    <tr>\n",
       "      <th>0</th>\n",
       "      <td>Кондратюк Вячеслав Юрьевич</td>\n",
       "      <td>10</td>\n",
       "      <td>10</td>\n",
       "      <td>10</td>\n",
       "      <td>20</td>\n",
       "      <td>NaN</td>\n",
       "      <td>NaN</td>\n",
       "      <td>NaN</td>\n",
       "      <td>NaN</td>\n",
       "      <td>NaN</td>\n",
       "      <td>NaN</td>\n",
       "      <td>NaN</td>\n",
       "      <td>NaN</td>\n",
       "      <td>NaN</td>\n",
       "      <td>NaN</td>\n",
       "      <td>NaN</td>\n",
       "      <td>50</td>\n",
       "    </tr>\n",
       "  </tbody>\n",
       "</table>\n",
       "</div>"
      ],
      "text/plain": [
       "                          ФИО  ДЗ1  ДЗ2  ДЗ3  ДЗ4  ДЗ5  ДЗ6  ДЗ7  ДЗ8  #vis1  \\\n",
       "0  Кондратюк Вячеслав Юрьевич   10   10   10   20  NaN  NaN  NaN  NaN    NaN   \n",
       "\n",
       "   #vis2  kaggle  arktur  proj_ind  proj_alice  tutorials  ИТОГ  \n",
       "0    NaN     NaN     NaN       NaN         NaN        NaN    50  "
      ]
     },
     "execution_count": 34,
     "metadata": {},
     "output_type": "execute_result"
    }
   ],
   "source": [
    "from urllib.parse import urlencode, quote_plus\n",
    "import requests\n",
    "base_url=\"https://docs.google.com/spreadsheets/d\"\n",
    "sheet_key=\"1NSdcHzMy_KoFx6hSZUuXUTwW5X6xsFY-POW2wQ4jjjs\"\n",
    "sheet_id=\"1465042576\"\n",
    "service=\"gviz/tq?\"\n",
    "query=\"select * where A='Кондратюк Вячеслав Юрьевич'\"\n",
    "\n",
    "payload = {'tqx':'out:csv',\n",
    "           'sheet':sheet_id,\n",
    "           'tq':query}\n",
    "encoded = urlencode(payload, quote_via=quote_plus)\n",
    "sheet_url = \"/\".join([base_url,sheet_key,service]) + encoded\n",
    "\n",
    "#print (sheet_url)\n",
    "r = requests.get(url=sheet_url)\n",
    "#print(r.text)\n",
    "\n",
    "from io import StringIO\n",
    "pd.read_csv(StringIO(r.text))"
   ]
  },
  {
   "cell_type": "code",
   "execution_count": 1,
   "metadata": {
    "collapsed": true
   },
   "outputs": [],
   "source": [
    "RANDOM_STATE = 42\n",
    "N_FOLDS = 5"
   ]
  },
  {
   "cell_type": "code",
   "execution_count": 2,
   "metadata": {
    "collapsed": true
   },
   "outputs": [],
   "source": [
    "import json\n",
    "from glob import glob\n",
    "\n",
    "import numpy as np\n",
    "import pandas as pd\n",
    "\n",
    "import matplotlib.pyplot as plt\n",
    "%matplotlib inline\n",
    "plt.rcParams['figure.figsize'] = (12, 8)"
   ]
  },
  {
   "cell_type": "markdown",
   "metadata": {},
   "source": [
    "Будем играть с предсказанием цены, `fare` будет целевой переменной, тогда `trip_total` является ликом по отношению к ней – выкинем этот признак."
   ]
  },
  {
   "cell_type": "code",
   "execution_count": 7,
   "metadata": {
    "collapsed": true
   },
   "outputs": [],
   "source": [
    "dataset_files = sorted(glob('../../data/chicago_taxi_trips_2016_*.csv'))\n",
    "assert len(dataset_files) == 3\n",
    "\n",
    "df = pd.concat(map(pd.read_csv, dataset_files))\n",
    "df.drop('trip_total', axis=1, inplace=True)\n",
    "target = df.pop('fare')"
   ]
  },
  {
   "cell_type": "markdown",
   "metadata": {},
   "source": [
    "Загрузим словарь, ключи которого – названия признаков, а значения – опять же, словари, отображающие индексы уникальных значений признака в сами значения. Если звучит путано, посмотрите, например, на признак `pickup_longitude` в исходных данных и в словаре `column_remapping`."
   ]
  },
  {
   "cell_type": "code",
   "execution_count": 8,
   "metadata": {
    "collapsed": true
   },
   "outputs": [],
   "source": [
    "with open('../../data/column_remapping.json') as json_file:\n",
    "    column_remapping = json.load(json_file)"
   ]
  },
  {
   "cell_type": "code",
   "execution_count": 9,
   "metadata": {},
   "outputs": [
    {
     "data": {
      "text/html": [
       "<div>\n",
       "<style>\n",
       "    .dataframe thead tr:only-child th {\n",
       "        text-align: right;\n",
       "    }\n",
       "\n",
       "    .dataframe thead th {\n",
       "        text-align: left;\n",
       "    }\n",
       "\n",
       "    .dataframe tbody tr th {\n",
       "        vertical-align: top;\n",
       "    }\n",
       "</style>\n",
       "<table border=\"1\" class=\"dataframe\">\n",
       "  <thead>\n",
       "    <tr style=\"text-align: right;\">\n",
       "      <th></th>\n",
       "      <th>taxi_id</th>\n",
       "      <th>trip_start_timestamp</th>\n",
       "      <th>trip_end_timestamp</th>\n",
       "      <th>trip_seconds</th>\n",
       "      <th>trip_miles</th>\n",
       "      <th>pickup_census_tract</th>\n",
       "      <th>dropoff_census_tract</th>\n",
       "      <th>pickup_community_area</th>\n",
       "      <th>dropoff_community_area</th>\n",
       "      <th>tips</th>\n",
       "      <th>tolls</th>\n",
       "      <th>extras</th>\n",
       "      <th>payment_type</th>\n",
       "      <th>company</th>\n",
       "      <th>pickup_latitude</th>\n",
       "      <th>pickup_longitude</th>\n",
       "      <th>dropoff_latitude</th>\n",
       "      <th>dropoff_longitude</th>\n",
       "    </tr>\n",
       "  </thead>\n",
       "  <tbody>\n",
       "    <tr>\n",
       "      <th>0</th>\n",
       "      <td>85.0</td>\n",
       "      <td>2016-1-13 06:15:00</td>\n",
       "      <td>2016-1-13 06:15:00</td>\n",
       "      <td>180.0</td>\n",
       "      <td>0.40</td>\n",
       "      <td>NaN</td>\n",
       "      <td>NaN</td>\n",
       "      <td>24.0</td>\n",
       "      <td>24.0</td>\n",
       "      <td>0.00</td>\n",
       "      <td>0.0</td>\n",
       "      <td>0.0</td>\n",
       "      <td>Cash</td>\n",
       "      <td>107.0</td>\n",
       "      <td>199.0</td>\n",
       "      <td>510.0</td>\n",
       "      <td>199.0</td>\n",
       "      <td>510.0</td>\n",
       "    </tr>\n",
       "    <tr>\n",
       "      <th>1</th>\n",
       "      <td>2776.0</td>\n",
       "      <td>2016-1-22 09:30:00</td>\n",
       "      <td>2016-1-22 09:45:00</td>\n",
       "      <td>240.0</td>\n",
       "      <td>0.70</td>\n",
       "      <td>NaN</td>\n",
       "      <td>NaN</td>\n",
       "      <td>NaN</td>\n",
       "      <td>NaN</td>\n",
       "      <td>4.45</td>\n",
       "      <td>0.0</td>\n",
       "      <td>0.0</td>\n",
       "      <td>Credit Card</td>\n",
       "      <td>NaN</td>\n",
       "      <td>NaN</td>\n",
       "      <td>NaN</td>\n",
       "      <td>NaN</td>\n",
       "      <td>NaN</td>\n",
       "    </tr>\n",
       "    <tr>\n",
       "      <th>2</th>\n",
       "      <td>3168.0</td>\n",
       "      <td>2016-1-31 21:30:00</td>\n",
       "      <td>2016-1-31 21:30:00</td>\n",
       "      <td>0.0</td>\n",
       "      <td>0.00</td>\n",
       "      <td>NaN</td>\n",
       "      <td>NaN</td>\n",
       "      <td>NaN</td>\n",
       "      <td>NaN</td>\n",
       "      <td>5.00</td>\n",
       "      <td>0.0</td>\n",
       "      <td>0.0</td>\n",
       "      <td>Credit Card</td>\n",
       "      <td>119.0</td>\n",
       "      <td>NaN</td>\n",
       "      <td>NaN</td>\n",
       "      <td>NaN</td>\n",
       "      <td>NaN</td>\n",
       "    </tr>\n",
       "    <tr>\n",
       "      <th>3</th>\n",
       "      <td>4237.0</td>\n",
       "      <td>2016-1-23 17:30:00</td>\n",
       "      <td>2016-1-23 17:30:00</td>\n",
       "      <td>480.0</td>\n",
       "      <td>1.10</td>\n",
       "      <td>NaN</td>\n",
       "      <td>NaN</td>\n",
       "      <td>6.0</td>\n",
       "      <td>6.0</td>\n",
       "      <td>0.00</td>\n",
       "      <td>0.0</td>\n",
       "      <td>0.0</td>\n",
       "      <td>Cash</td>\n",
       "      <td>NaN</td>\n",
       "      <td>686.0</td>\n",
       "      <td>500.0</td>\n",
       "      <td>686.0</td>\n",
       "      <td>500.0</td>\n",
       "    </tr>\n",
       "    <tr>\n",
       "      <th>4</th>\n",
       "      <td>5710.0</td>\n",
       "      <td>2016-1-14 05:45:00</td>\n",
       "      <td>2016-1-14 06:00:00</td>\n",
       "      <td>480.0</td>\n",
       "      <td>2.71</td>\n",
       "      <td>NaN</td>\n",
       "      <td>NaN</td>\n",
       "      <td>32.0</td>\n",
       "      <td>NaN</td>\n",
       "      <td>0.00</td>\n",
       "      <td>0.0</td>\n",
       "      <td>0.0</td>\n",
       "      <td>Cash</td>\n",
       "      <td>NaN</td>\n",
       "      <td>385.0</td>\n",
       "      <td>478.0</td>\n",
       "      <td>NaN</td>\n",
       "      <td>NaN</td>\n",
       "    </tr>\n",
       "  </tbody>\n",
       "</table>\n",
       "</div>"
      ],
      "text/plain": [
       "   taxi_id trip_start_timestamp  trip_end_timestamp  trip_seconds  trip_miles  \\\n",
       "0     85.0   2016-1-13 06:15:00  2016-1-13 06:15:00         180.0        0.40   \n",
       "1   2776.0   2016-1-22 09:30:00  2016-1-22 09:45:00         240.0        0.70   \n",
       "2   3168.0   2016-1-31 21:30:00  2016-1-31 21:30:00           0.0        0.00   \n",
       "3   4237.0   2016-1-23 17:30:00  2016-1-23 17:30:00         480.0        1.10   \n",
       "4   5710.0   2016-1-14 05:45:00  2016-1-14 06:00:00         480.0        2.71   \n",
       "\n",
       "   pickup_census_tract  dropoff_census_tract  pickup_community_area  \\\n",
       "0                  NaN                   NaN                   24.0   \n",
       "1                  NaN                   NaN                    NaN   \n",
       "2                  NaN                   NaN                    NaN   \n",
       "3                  NaN                   NaN                    6.0   \n",
       "4                  NaN                   NaN                   32.0   \n",
       "\n",
       "   dropoff_community_area  tips  tolls  extras payment_type  company  \\\n",
       "0                    24.0  0.00    0.0     0.0         Cash    107.0   \n",
       "1                     NaN  4.45    0.0     0.0  Credit Card      NaN   \n",
       "2                     NaN  5.00    0.0     0.0  Credit Card    119.0   \n",
       "3                     6.0  0.00    0.0     0.0         Cash      NaN   \n",
       "4                     NaN  0.00    0.0     0.0         Cash      NaN   \n",
       "\n",
       "   pickup_latitude  pickup_longitude  dropoff_latitude  dropoff_longitude  \n",
       "0            199.0             510.0             199.0              510.0  \n",
       "1              NaN               NaN               NaN                NaN  \n",
       "2              NaN               NaN               NaN                NaN  \n",
       "3            686.0             500.0             686.0              500.0  \n",
       "4            385.0             478.0               NaN                NaN  "
      ]
     },
     "execution_count": 9,
     "metadata": {},
     "output_type": "execute_result"
    }
   ],
   "source": [
    "df.head()"
   ]
  },
  {
   "cell_type": "code",
   "execution_count": 10,
   "metadata": {
    "collapsed": true
   },
   "outputs": [],
   "source": [
    "assert df.shape == (5432105, 18)"
   ]
  },
  {
   "cell_type": "code",
   "execution_count": 17,
   "metadata": {},
   "outputs": [
    {
     "data": {
      "text/plain": [
       "['tips']"
      ]
     },
     "execution_count": 17,
     "metadata": {},
     "output_type": "execute_result"
    }
   ],
   "source": [
    "[key for key in [\"dropoff_latitude\", \"tips\", \"company\", \"pickup_census_tract\"] if key not in column_remapping.keys()]"
   ]
  },
  {
   "cell_type": "markdown",
   "metadata": {},
   "source": [
    "**<font color='red'>Вопрос №1.</font> Какой из признаков является вещественным и из предобработки требует только заполнения/удаления пропусков? **\n",
    "\n",
    "- dropoff_latitude\n",
    "- tips\n",
    "- company\n",
    "- pickup_census_tract"
   ]
  },
  {
   "cell_type": "markdown",
   "metadata": {},
   "source": [
    "**<font color='red'>Вопрос №2.</font> Какие методы предобработки целевой переменной могут быть уместны, судя по графику? **\n",
    "\n",
    "- возведение в n-ую степень, n >= 2 \n",
    "- ride2vec\n",
    "- логарифмирование\n",
    "- никакие"
   ]
  },
  {
   "cell_type": "code",
   "execution_count": 24,
   "metadata": {
    "scrolled": true
   },
   "outputs": [
    {
     "data": {
      "image/png": "[encoded data removed]",
      "text/plain": [
       "<matplotlib.figure.Figure at 0x7f222eb950b8>"
      ]
     },
     "metadata": {},
     "output_type": "display_data"
    }
   ],
   "source": [
    "from scipy.stats import shapiro\n",
    "data = target.sample(1000, random_state=RANDOM_STATE)\n",
    "np.log(data).plot(kind=\"hist\", bins=100);"
   ]
  },
  {
   "cell_type": "code",
   "execution_count": 33,
   "metadata": {},
   "outputs": [
    {
     "data": {
      "image/png": "[encoded data removed]",
      "text/plain": [
       "<matplotlib.figure.Figure at 0x7f21d65fee48>"
      ]
     },
     "metadata": {},
     "output_type": "display_data"
    }
   ],
   "source": [
    "from scipy.stats import lognorm\n",
    "\n",
    "data = lognorm(s=1).rvs(1000)\n",
    "pd.Series(np.log(data)).plot(kind=\"hist\", bins=100);"
   ]
  },
  {
   "cell_type": "code",
   "execution_count": 29,
   "metadata": {
    "scrolled": true
   },
   "outputs": [
    {
     "name": "stdout",
     "output_type": "stream",
     "text": [
      "(0.6725082993507385, 4.351970601699655e-40)\n",
      "(0.2390395998954773, 0.0)\n",
      "(0.9157050848007202, 3.794985147432481e-23)\n"
     ]
    }
   ],
   "source": [
    "print(shapiro(data))\n",
    "print(shapiro(data ** 3))\n",
    "print(shapiro(np.log(data)))"
   ]
  },
  {
   "cell_type": "code",
   "execution_count": 19,
   "metadata": {
    "scrolled": true
   },
   "outputs": [
    {
     "data": {
      "image/png": "[encoded data removed]",
      "text/plain": [
       "<matplotlib.figure.Figure at 0x7f2239824a20>"
      ]
     },
     "metadata": {},
     "output_type": "display_data"
    }
   ],
   "source": [
    "target.sample(1000, random_state=RANDOM_STATE).plot(kind='hist', bins=100);"
   ]
  },
  {
   "cell_type": "markdown",
   "metadata": {},
   "source": [
    "**<font color='red'>Вопрос №3.</font> Каково максимальное расстояние (`great-circle distance` из библиотеки `geopy`, в км) между точками `pickup` и `dropoff`?** <br>(Для ускорения подсчета можно использовать `joblib`)\n",
    "- 27.23\n",
    "- 19.91\n",
    "- 23.52\n",
    "- 43.66"
   ]
  },
  {
   "cell_type": "code",
   "execution_count": 36,
   "metadata": {},
   "outputs": [
    {
     "name": "stdout",
     "output_type": "stream",
     "text": [
      "Collecting joblib\n",
      "  Downloading joblib-0.11-py2.py3-none-any.whl (176kB)\n",
      "\u001b[K    100% |################################| 184kB 822kB/s ta 0:00:01\n",
      "\u001b[?25hInstalling collected packages: joblib\n",
      "Successfully installed joblib-0.11\n"
     ]
    }
   ],
   "source": [
    "!pip install joblib"
   ]
  },
  {
   "cell_type": "code",
   "execution_count": 8,
   "metadata": {
    "collapsed": true
   },
   "outputs": [],
   "source": [
    "pickup_dropoff = df[['pickup_latitude', 'pickup_longitude', \n",
    "                     'dropoff_latitude', 'dropoff_longitude']].dropna()"
   ]
  },
  {
   "cell_type": "markdown",
   "metadata": {},
   "source": [
    "Давайте обучим простую модель, прежде чем пробовать добавлять признаки."
   ]
  },
  {
   "cell_type": "code",
   "execution_count": 9,
   "metadata": {},
   "outputs": [
    {
     "name": "stdout",
     "output_type": "stream",
     "text": [
      "926.729562741\n",
      "CPU times: user 9.22 s, sys: 2.87 s, total: 12.1 s\n",
      "Wall time: 8.74 s\n"
     ]
    }
   ],
   "source": [
    "%%time\n",
    "from sklearn.linear_model import LinearRegression\n",
    "from sklearn.model_selection import cross_val_score, KFold\n",
    "import warnings\n",
    "\n",
    "with warnings.catch_warnings():\n",
    "    warnings.simplefilter(\"ignore\")\n",
    "\n",
    "    X_data = df[['tips', 'tolls', 'trip_seconds', 'trip_miles']]\n",
    "    X_data['tips'] = X_data.tips.fillna(0)\n",
    "    X_data['tolls'] = X_data.tolls.fillna(0)\n",
    "    X_data['trip_seconds'] = X_data.trip_seconds.fillna(X_data.trip_seconds.median())\n",
    "    X_data['trip_miles'] = X_data.trip_miles.fillna(X_data.trip_miles.median())\n",
    "    y_data = target.fillna(0)\n",
    "    \n",
    "kfold = KFold(n_splits=N_FOLDS, shuffle=True)\n",
    "# np.abs тут нужен,т.к. sklearn по ошибке возвращает отрицательную MSE\n",
    "print(np.abs(cross_val_score(LinearRegression(), \n",
    "                X=X_data.values,\n",
    "                y=y_data,\n",
    "                cv=kfold,\n",
    "                scoring='neg_mean_squared_error')\\\n",
    "    .mean()))"
   ]
  },
  {
   "cell_type": "markdown",
   "metadata": {},
   "source": [
    "**<font color='red'>Вопрос №4.</font> В ячейке выше допущено несколько ошибок и неаккуратных действий.\n",
    "Что из перечисленных НЕ является проблемой, влияющей на настоящее качество модели? **\n",
    "\n",
    "- не зафиксирован random seed\n",
    "- признаки разной размерности не нормированы\n",
    "- взята малая подвыборка признаков\n",
    "- пропуски в целевой переменной заполнены неуместным значением по умолчанию"
   ]
  },
  {
   "cell_type": "markdown",
   "metadata": {},
   "source": [
    "Слегка модифицируем обработку данных."
   ]
  },
  {
   "cell_type": "code",
   "execution_count": 10,
   "metadata": {},
   "outputs": [
    {
     "data": {
      "text/plain": [
       "877.7118181861897"
      ]
     },
     "execution_count": 10,
     "metadata": {},
     "output_type": "execute_result"
    }
   ],
   "source": [
    "from sklearn.pipeline import make_pipeline\n",
    "from sklearn.preprocessing import StandardScaler\n",
    "\n",
    "with warnings.catch_warnings():\n",
    "    warnings.simplefilter(\"ignore\")\n",
    "    X_data = df[['tips', 'tolls', 'trip_seconds', 'trip_miles']]\n",
    "    X_data['tips'] = X_data.tips.fillna(0)\n",
    "    X_data['tolls'] = X_data.tolls.fillna(0)\n",
    "    X_data['trip_seconds'] = X_data.trip_seconds.fillna(X_data.trip_seconds.median())\n",
    "    X_data['trip_miles'] = X_data.trip_miles.fillna(X_data.trip_miles.median())\n",
    "    mask = np.isnan(target)\n",
    "\n",
    "X_data = X_data[~mask]\n",
    "y_data = target[~mask]\n",
    "\n",
    "pipeline = make_pipeline(StandardScaler(),\n",
    "                         LinearRegression())\n",
    "\n",
    "kfold = KFold(n_splits=N_FOLDS, shuffle=True, random_state=RANDOM_STATE)\n",
    "np.abs(cross_val_score(pipeline,\n",
    "                X=X_data.values,\n",
    "                y=y_data,\n",
    "                cv=kfold,\n",
    "                scoring='neg_mean_squared_error') \\\n",
    "    .mean())"
   ]
  },
  {
   "cell_type": "markdown",
   "metadata": {},
   "source": [
    "**<font color='red'>Вопрос №5.</font> Какой из признаков нужно убрать, чтобы качество модели улучшилось значительнее всего?**\n",
    "\n",
    "- tips\n",
    "- tolls \n",
    "- trip_seconds\n",
    "- trip_miles\n",
    "- ни один из вышеперечисленных"
   ]
  },
  {
   "cell_type": "markdown",
   "metadata": {},
   "source": [
    "Давайте построим модель на двух признаках (время поездки и пройденное расстояние) и попробуем добавить еще один признак, связанный с датой. "
   ]
  },
  {
   "cell_type": "code",
   "execution_count": 11,
   "metadata": {},
   "outputs": [
    {
     "name": "stdout",
     "output_type": "stream",
     "text": [
      "CPU times: user 1min 17s, sys: 2.67 s, total: 1min 20s\n",
      "Wall time: 1min 20s\n"
     ]
    }
   ],
   "source": [
    "%%time\n",
    "with warnings.catch_warnings():\n",
    "    warnings.simplefilter(\"ignore\")\n",
    "    X_data = df[['trip_start_timestamp', 'trip_seconds', 'trip_miles']]\n",
    "    X_data['trip_seconds'] = X_data.trip_seconds.fillna(X_data.trip_seconds.median())\n",
    "    X_data['trip_miles'] = X_data.trip_miles.fillna(X_data.trip_miles.median())\n",
    "    mask = np.isnan(target)\n",
    "\n",
    "X_data = X_data[~mask]\n",
    "y_data = target[~mask]\n",
    "\n",
    "timestamp = pd.to_datetime(X_data.pop('trip_start_timestamp'))\n",
    "\n",
    "t1 = timestamp.apply(lambda x: x.dayofweek)\n",
    "t2 = timestamp.apply(lambda x: 1 if x.dayofweek in (5, 6) else 0)\n",
    "t3 = timestamp.apply(lambda x: x.hour)\n",
    "t4 = timestamp.apply(lambda x: x.dayofweek * 24 + x.hour)"
   ]
  },
  {
   "cell_type": "code",
   "execution_count": 12,
   "metadata": {
    "collapsed": true
   },
   "outputs": [],
   "source": [
    "for i, t in enumerate((t1, t2, t3, t4)):\n",
    "    X_data_changed = X_data.copy()\n",
    "    X_data_changed['time'] = t\n",
    "    \n",
    "    # Ваш код здесь"
   ]
  },
  {
   "cell_type": "markdown",
   "metadata": {},
   "source": [
    "** <font color='red'>Вопрос №6.</font> Какие выводы можно сделать? **\n",
    "\n",
    "- новые признаки не улучшают модель, т.к. автор намеренно совершил техническую ошибку\n",
    "- новые признаки не улучшают модель, т.к. такова природа данных\n",
    "- новые признаки улучшают модель всего на 3%\n",
    "- новые признаки улучшают модель всего на 7%"
   ]
  },
  {
   "cell_type": "markdown",
   "metadata": {},
   "source": [
    "** <font color='red'>Вопрос №7</font>. Отвлечемся и пофантазируем. Представим, что ввели закон, обязывающий пассажиров такси фотографировать своего водителя перед каждой поездкой и после каждой поездки; к нам, в дополнение к текущему датасету, попали эти фотографии. Как _нельзя_ было бы использовать их в предсказании цены поездки? **\n",
    "\n",
    "- извлечь признаки водителя при помощи предобученной нейронной сети, получив значения на одном из последних полносвязных слоев\n",
    "- использовать метаданные о модели телефона пассажира\n",
    "- использовать геотег с обеих фотографий\n",
    "- использовать время съемки"
   ]
  },
  {
   "cell_type": "markdown",
   "metadata": {},
   "source": [
    "Давайте попробуем преобразовать один из признаков, чтобы избавиться от \"длинного хвоста\" справа."
   ]
  },
  {
   "cell_type": "code",
   "execution_count": 13,
   "metadata": {},
   "outputs": [
    {
     "data": {
      "image/png": "[encoded data removed]",
      "text/plain": [
       "<matplotlib.figure.Figure at 0x10d387a20>"
      ]
     },
     "metadata": {},
     "output_type": "display_data"
    }
   ],
   "source": [
    "df_tmp = df.copy()\n",
    "df_tmp = df_tmp[df_tmp.trip_seconds > 0]\n",
    "seconds = df_tmp.trip_seconds\n",
    "\n",
    "seconds.sample(10000).plot(kind='hist', bins=100);"
   ]
  },
  {
   "cell_type": "code",
   "execution_count": 14,
   "metadata": {},
   "outputs": [
    {
     "data": {
      "image/png": "[encoded data removed]",
      "text/plain": [
       "<matplotlib.figure.Figure at 0x17382d438>"
      ]
     },
     "metadata": {},
     "output_type": "display_data"
    }
   ],
   "source": [
    "seconds.sample(10000).apply(lambda x: \n",
    "                            np.log(x + 1)).plot(kind='hist', bins=20);"
   ]
  },
  {
   "cell_type": "markdown",
   "metadata": {},
   "source": [
    "**<font color='red'>Вопрос №8.</font> Зачем в предыдущей ячейке используется `np.log(x + 1)`, а не просто `np.log`?**\n",
    "\n",
    "- чтобы запутать читателей\n",
    "- чтобы получить бимодальное распределение\n",
    "- для скорости вычисления\n",
    "- во избежание `ValueError`"
   ]
  }
 ],
 "metadata": {
  "kernelspec": {
   "display_name": "Python 3",
   "language": "python",
   "name": "python3"
  },
  "language_info": {
   "codemirror_mode": {
    "name": "ipython",
    "version": 3
   },
   "file_extension": ".py",
   "mimetype": "text/x-python",
   "name": "python",
   "nbconvert_exporter": "python",
   "pygments_lexer": "ipython3",
   "version": "3.5.2"
  }
 },
 "nbformat": 4,
 "nbformat_minor": 1
}
