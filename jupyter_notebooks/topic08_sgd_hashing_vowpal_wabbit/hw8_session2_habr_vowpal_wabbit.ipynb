{
 "cells": [
  {
   "cell_type": "markdown",
   "metadata": {},
   "source": [
    "<center>\n",
    "<img src=\"../../img/ods_stickers.jpg\">\n",
    "## Открытый курс по машинному обучению. Сессия № 2\n",
    "</center>\n",
    "Автор материала: программист-исследователь Mail.ru Group, старший преподаватель Факультета Компьютерных Наук ВШЭ Юрий Кашницкий. Материал распространяется на условиях лицензии [Creative Commons CC BY-NC-SA 4.0](https://creativecommons.org/licenses/by-nc-sa/4.0/). Можно использовать в любых целях (редактировать, поправлять и брать за основу), кроме коммерческих, но с обязательным упоминанием автора материала."
   ]
  },
  {
   "cell_type": "markdown",
   "metadata": {},
   "source": [
    "# <center>Домашнее задание № 8\n",
    "## <center> Vowpal Wabbit в задаче прогнозирования популярности статьи на хабре"
   ]
  },
  {
   "cell_type": "markdown",
   "metadata": {},
   "source": [
    "В этом задании надо побить бенчмарк в [соревновании](https://www.kaggle.com/c/habr-num-bookmarks) на Kaggle Inclass. Как это делать – ограничений нет (кроме, конечно, ручной разметки), прочитать правила можно [тут](https://www.kaggle.com/c/habr-num-bookmarks/rules). Ниже описаны инструкции, как это сделать с Vowpal Wabbit.\n",
    "\n",
    "Дедлайн: 31 октября 23:59 UTC +3. Решение надо будет загрузить по [ссылке](https://www.dropbox.com/request/g5WOPrxwvcYwADZCuoY7). В этом соревновании нет задачи победить. Цель – побить бенчмарк и продвинуться в [соревновании](https://mlcourse.arktur.io) по прогнозу популярности статьи на Medium. "
   ]
  },
  {
   "cell_type": "code",
   "execution_count": 13,
   "metadata": {
    "collapsed": true
   },
   "outputs": [],
   "source": [
    "import numpy as np\n",
    "import pandas as pd\n",
    "import json\n",
    "from tqdm import tqdm_notebook\n",
    "from sklearn.metrics import mean_absolute_error"
   ]
  },
  {
   "cell_type": "code",
   "execution_count": 14,
   "metadata": {
    "collapsed": true
   },
   "outputs": [],
   "source": [
    "HW8_PATH = '../../data/hw8_vw/'"
   ]
  },
  {
   "cell_type": "code",
   "execution_count": 66,
   "metadata": {},
   "outputs": [],
   "source": [
    "!HW8_PATH=../../data/hw8_vw"
   ]
  },
  {
   "cell_type": "markdown",
   "metadata": {},
   "source": [
    "Посмотрим на одну из строчек в JSON-файле: считаем ее с помощью библиотеки json. Эта строчка соответствует [7-ой статье](https://habrahabr.ru/post/7/) на Хабре."
   ]
  },
  {
   "cell_type": "code",
   "execution_count": 19,
   "metadata": {
    "collapsed": true
   },
   "outputs": [],
   "source": [
    "!head -1 $HW8_PATH/train.json > $HW8_PATH/train1.json"
   ]
  },
  {
   "cell_type": "code",
   "execution_count": 20,
   "metadata": {
    "collapsed": true
   },
   "outputs": [],
   "source": [
    "with open('../../data/hw8_vw/train1.json') as inp_json:\n",
    "    first_json = json.load(inp_json)"
   ]
  },
  {
   "cell_type": "code",
   "execution_count": 21,
   "metadata": {},
   "outputs": [
    {
     "data": {
      "text/plain": [
       "dict_keys(['author', 'meta_tags', 'polling', 'hubs', '_id', 'flags', 'published', 'domain', '_timestamp', 'tags', 'post_id', 'flow', 'content', 'link_tags', 'title', 'url'])"
      ]
     },
     "execution_count": 21,
     "metadata": {},
     "output_type": "execute_result"
    }
   ],
   "source": [
    "first_json.keys()"
   ]
  },
  {
   "cell_type": "markdown",
   "metadata": {},
   "source": [
    "Видим 16 полей, перечислим некоторые из них:\n",
    "- _id, url - URL статьи\n",
    "- published – время публикации статьи\n",
    "- domain – сайт (например, habrahahbr.ru или geektimes.ru)\n",
    "- title – название статьи\n",
    "- content – текст статьи\n",
    "- hubs - перечисление хабов, к которым относится статья\n",
    "- tags – теги статьи\n",
    "- author – автор статьи, его ник и ссылка на профиль"
   ]
  },
  {
   "cell_type": "code",
   "execution_count": 6,
   "metadata": {},
   "outputs": [
    {
     "data": {
      "text/plain": [
       "'https://habrahabr.ru/post/7/'"
      ]
     },
     "execution_count": 6,
     "metadata": {},
     "output_type": "execute_result"
    }
   ],
   "source": [
    "first_json['_id']"
   ]
  },
  {
   "cell_type": "code",
   "execution_count": 7,
   "metadata": {},
   "outputs": [
    {
     "data": {
      "text/plain": [
       "1493192186.0903192"
      ]
     },
     "execution_count": 7,
     "metadata": {},
     "output_type": "execute_result"
    }
   ],
   "source": [
    "first_json['_timestamp']"
   ]
  },
  {
   "cell_type": "code",
   "execution_count": 29,
   "metadata": {},
   "outputs": [
    {
     "data": {
      "text/plain": [
       "(4, 7)"
      ]
     },
     "execution_count": 29,
     "metadata": {},
     "output_type": "execute_result"
    }
   ],
   "source": [
    "from datetime import datetime\n",
    "dt = datetime.fromtimestamp(first_json['_timestamp'])\n",
    "dt.month, dt.hour"
   ]
  },
  {
   "cell_type": "code",
   "execution_count": 8,
   "metadata": {},
   "outputs": [
    {
     "data": {
      "text/plain": [
       "'https://habrahabr.ru/post/7/'"
      ]
     },
     "execution_count": 8,
     "metadata": {},
     "output_type": "execute_result"
    }
   ],
   "source": [
    "first_json['url']"
   ]
  },
  {
   "cell_type": "code",
   "execution_count": 9,
   "metadata": {
    "scrolled": true
   },
   "outputs": [
    {
     "data": {
      "text/plain": [
       "'habrahabr.ru'"
      ]
     },
     "execution_count": 9,
     "metadata": {},
     "output_type": "execute_result"
    }
   ],
   "source": [
    "first_json['domain']"
   ]
  },
  {
   "cell_type": "code",
   "execution_count": 27,
   "metadata": {},
   "outputs": [
    {
     "data": {
      "text/plain": [
       "'2006-07-15T01:48:00.000Z'"
      ]
     },
     "execution_count": 27,
     "metadata": {},
     "output_type": "execute_result"
    }
   ],
   "source": [
    "first_json['published']['$date']"
   ]
  },
  {
   "cell_type": "code",
   "execution_count": 11,
   "metadata": {},
   "outputs": [
    {
     "data": {
      "text/plain": [
       "'Самопроизвольное разлогинивание'"
      ]
     },
     "execution_count": 11,
     "metadata": {},
     "output_type": "execute_result"
    }
   ],
   "source": [
    "first_json['title']"
   ]
  },
  {
   "cell_type": "code",
   "execution_count": 12,
   "metadata": {},
   "outputs": [
    {
     "data": {
      "text/plain": [
       "'У меня такое ощущение, что logout время от времени происходит самопроизвольно, несмотря на то, что чекбокс про логине включен.<br>\\r\\n<br>\\r\\nВозможно, это происходит при смене IP-адреса, но я не уверен.'"
      ]
     },
     "execution_count": 12,
     "metadata": {},
     "output_type": "execute_result"
    }
   ],
   "source": [
    "first_json['content']"
   ]
  },
  {
   "cell_type": "code",
   "execution_count": 13,
   "metadata": {
    "collapsed": true
   },
   "outputs": [],
   "source": [
    "first_json['polling']"
   ]
  },
  {
   "cell_type": "code",
   "execution_count": 14,
   "metadata": {},
   "outputs": [
    {
     "data": {
      "text/plain": [
       "7"
      ]
     },
     "execution_count": 14,
     "metadata": {},
     "output_type": "execute_result"
    }
   ],
   "source": [
    "first_json['post_id']"
   ]
  },
  {
   "cell_type": "code",
   "execution_count": 15,
   "metadata": {},
   "outputs": [
    {
     "data": {
      "text/plain": [
       "[]"
      ]
     },
     "execution_count": 15,
     "metadata": {},
     "output_type": "execute_result"
    }
   ],
   "source": [
    "first_json['flags']"
   ]
  },
  {
   "cell_type": "code",
   "execution_count": 16,
   "metadata": {},
   "outputs": [
    {
     "data": {
      "text/plain": [
       "[{'id': 'hub/habr',\n",
       "  'title': 'Хабрахабр',\n",
       "  'url': 'https://habrahabr.ru/hub/habr/'}]"
      ]
     },
     "execution_count": 16,
     "metadata": {},
     "output_type": "execute_result"
    }
   ],
   "source": [
    "first_json['hubs']"
   ]
  },
  {
   "cell_type": "code",
   "execution_count": 17,
   "metadata": {
    "collapsed": true
   },
   "outputs": [],
   "source": [
    "first_json['flow']"
   ]
  },
  {
   "cell_type": "code",
   "execution_count": 18,
   "metadata": {},
   "outputs": [
    {
     "data": {
      "text/plain": [
       "['логин', 'login']"
      ]
     },
     "execution_count": 18,
     "metadata": {},
     "output_type": "execute_result"
    }
   ],
   "source": [
    "first_json['tags']"
   ]
  },
  {
   "cell_type": "code",
   "execution_count": 18,
   "metadata": {},
   "outputs": [
    {
     "data": {
      "text/plain": [
       "{'name': 'Павел Титов',\n",
       " 'nickname': '@ptitov',\n",
       " 'url': 'https://habrahabr.ru/users/ptitov'}"
      ]
     },
     "execution_count": 18,
     "metadata": {},
     "output_type": "execute_result"
    }
   ],
   "source": [
    "first_json['author']"
   ]
  },
  {
   "cell_type": "code",
   "execution_count": 19,
   "metadata": {},
   "outputs": [
    {
     "data": {
      "text/plain": [
       "{'alternate': 'https://habrahabr.ru/rss/post/7/',\n",
       " 'apple-touch-icon-precomposed': '/images/favicons/apple-touch-icon-152x152.png',\n",
       " 'canonical': 'https://habrahabr.ru/post/7/',\n",
       " 'icon': '/images/favicons/favicon-16x16.png',\n",
       " 'image_src': 'https://habrahabr.ru/i/habralogo.jpg',\n",
       " 'stylesheet': 'https://habracdn.net/habr/styles/1493134745/_build/global_main.css'}"
      ]
     },
     "execution_count": 19,
     "metadata": {},
     "output_type": "execute_result"
    }
   ],
   "source": [
    "first_json['link_tags']"
   ]
  },
  {
   "cell_type": "code",
   "execution_count": 20,
   "metadata": {},
   "outputs": [
    {
     "data": {
      "text/plain": [
       "{'al:android:app_name': 'Habrahabr',\n",
       " 'al:android:package': 'ru.habrahabr',\n",
       " 'al:android:url': 'habrahabr://post/7',\n",
       " 'al:windows_phone:app_id': '460a6bd6-8955-470f-935e-9ea1726a6060',\n",
       " 'al:windows_phone:app_name': 'Habrahabr',\n",
       " 'al:windows_phone:url': 'habrahabr://post/7',\n",
       " 'apple-mobile-web-app-title': 'Хабрахабр',\n",
       " 'application-name': 'Хабрахабр',\n",
       " 'description': 'У меня такое ощущение, что logout время от времени происходит самопроизвольно, несмотря на то, что чекбокс про логине включен.\\r\\n\\r\\nВозможно, это происходит при смене IP-адреса, но я не уверен.',\n",
       " 'fb:app_id': '444736788986613',\n",
       " 'keywords': 'логин, login',\n",
       " 'msapplication-TileColor': '#FFFFFF',\n",
       " 'msapplication-TileImage': 'mstile-144x144.png',\n",
       " 'og:description': 'У меня такое ощущение, что logout время от времени происходит самопроизвольно, несмотря на то, что чекбокс про логине включен.  Возможно, это происходит при...',\n",
       " 'og:image': 'https://habrahabr.ru/i/habralogo.jpg',\n",
       " 'og:title': 'Самопроизвольное разлогинивание',\n",
       " 'og:type': 'article',\n",
       " 'og:url': 'https://habrahabr.ru/post/7/',\n",
       " 'pocket-site-verification': 'ed24b2b9721edf0a282c5b4a3232c4',\n",
       " 'referrer': 'unsafe-url',\n",
       " 'robots': 'noindex',\n",
       " 'twitter:card': 'summary',\n",
       " 'twitter:site': '@habrahabr',\n",
       " 'viewport': 'width=1024',\n",
       " 'yandex-verification': '67d46b975fa41645'}"
      ]
     },
     "execution_count": 20,
     "metadata": {},
     "output_type": "execute_result"
    }
   ],
   "source": [
    "first_json['meta_tags']"
   ]
  },
  {
   "cell_type": "markdown",
   "metadata": {},
   "source": [
    "Загрузим ответы на обучающей выборке."
   ]
  },
  {
   "cell_type": "code",
   "execution_count": 286,
   "metadata": {
    "collapsed": true
   },
   "outputs": [],
   "source": [
    "train_target = pd.read_csv(HW8_PATH + '/train_target.csv',\n",
    "                          index_col='url')"
   ]
  },
  {
   "cell_type": "code",
   "execution_count": 23,
   "metadata": {},
   "outputs": [
    {
     "name": "stdout",
     "output_type": "stream",
     "text": [
      "<class 'pandas.core.frame.DataFrame'>\n",
      "Index: 120000 entries, https://habrahabr.ru/post/7/ to https://geektimes.ru/post/87438/\n",
      "Data columns (total 1 columns):\n",
      "target    120000 non-null float64\n",
      "dtypes: float64(1)\n",
      "memory usage: 1.8+ MB\n"
     ]
    }
   ],
   "source": [
    "train_target.info()"
   ]
  },
  {
   "cell_type": "code",
   "execution_count": 24,
   "metadata": {},
   "outputs": [
    {
     "data": {
      "text/html": [
       "<div>\n",
       "<style>\n",
       "    .dataframe thead tr:only-child th {\n",
       "        text-align: right;\n",
       "    }\n",
       "\n",
       "    .dataframe thead th {\n",
       "        text-align: left;\n",
       "    }\n",
       "\n",
       "    .dataframe tbody tr th {\n",
       "        vertical-align: top;\n",
       "    }\n",
       "</style>\n",
       "<table border=\"1\" class=\"dataframe\">\n",
       "  <thead>\n",
       "    <tr style=\"text-align: right;\">\n",
       "      <th></th>\n",
       "      <th>target</th>\n",
       "    </tr>\n",
       "    <tr>\n",
       "      <th>url</th>\n",
       "      <th></th>\n",
       "    </tr>\n",
       "  </thead>\n",
       "  <tbody>\n",
       "    <tr>\n",
       "      <th>https://habrahabr.ru/post/7/</th>\n",
       "      <td>0.693147</td>\n",
       "    </tr>\n",
       "    <tr>\n",
       "      <th>https://geektimes.ru/post/11/</th>\n",
       "      <td>1.098612</td>\n",
       "    </tr>\n",
       "    <tr>\n",
       "      <th>https://geektimes.ru/post/112/</th>\n",
       "      <td>0.000000</td>\n",
       "    </tr>\n",
       "    <tr>\n",
       "      <th>https://geektimes.ru/post/1127/</th>\n",
       "      <td>0.000000</td>\n",
       "    </tr>\n",
       "    <tr>\n",
       "      <th>https://geektimes.ru/post/12664/</th>\n",
       "      <td>0.000000</td>\n",
       "    </tr>\n",
       "  </tbody>\n",
       "</table>\n",
       "</div>"
      ],
      "text/plain": [
       "                                    target\n",
       "url                                       \n",
       "https://habrahabr.ru/post/7/      0.693147\n",
       "https://geektimes.ru/post/11/     1.098612\n",
       "https://geektimes.ru/post/112/    0.000000\n",
       "https://geektimes.ru/post/1127/   0.000000\n",
       "https://geektimes.ru/post/12664/  0.000000"
      ]
     },
     "execution_count": 24,
     "metadata": {},
     "output_type": "execute_result"
    }
   ],
   "source": [
    "train_target.head()"
   ]
  },
  {
   "cell_type": "markdown",
   "metadata": {},
   "source": [
    "Сформируйте обучающую выборку для Vowpal Wabbit, выберите признаки title, title, tags, domain, flow, author, и hubs из JSON-файла.\n",
    "От самого текста для начала просто возьмем его длину – постройте признак content_len – длина текста в миллионнах символов.\n",
    "Также постройте признаки – час и месяц публикации статьи. Еще, конечно же, возьмите ответы на обучающей выборке из `train_target`. Ниже пример того, как могут выглядеть первые две строки нового файла."
   ]
  },
  {
   "cell_type": "code",
   "execution_count": 25,
   "metadata": {},
   "outputs": [
    {
     "data": {
      "text/plain": [
       "'Chyornaia dyra'"
      ]
     },
     "execution_count": 25,
     "metadata": {},
     "output_type": "execute_result"
    }
   ],
   "source": [
    "cyrillic_translit={\n",
    "    u'\\u0410': 'A', u'\\u0430': 'a',\n",
    "    u'\\u0411': 'B', u'\\u0431': 'b',\n",
    "    u'\\u0412': 'V', u'\\u0432': 'v',\n",
    "    u'\\u0413': 'G', u'\\u0433': 'g',\n",
    "    u'\\u0414': 'D', u'\\u0434': 'd',\n",
    "    u'\\u0415': 'E', u'\\u0435': 'e',\n",
    "    u'\\u0416': 'Zh', u'\\u0436': 'zh',\n",
    "    u'\\u0417': 'Z', u'\\u0437': 'z',\n",
    "    u'\\u0418': 'I', u'\\u0438': 'i',\n",
    "    u'\\u0419': 'I', u'\\u0439': 'i',\n",
    "    u'\\u041a': 'K', u'\\u043a': 'k',\n",
    "    u'\\u041b': 'L', u'\\u043b': 'l',\n",
    "    u'\\u041c': 'M', u'\\u043c': 'm',\n",
    "    u'\\u041d': 'N', u'\\u043d': 'n',\n",
    "    u'\\u041e': 'O', u'\\u043e': 'o',\n",
    "    u'\\u041f': 'P', u'\\u043f': 'p',\n",
    "    u'\\u0420': 'R', u'\\u0440': 'r',\n",
    "    u'\\u0421': 'S', u'\\u0441': 's',\n",
    "    u'\\u0422': 'T', u'\\u0442': 't',\n",
    "    u'\\u0423': 'U', u'\\u0443': 'u',\n",
    "    u'\\u0424': 'F', u'\\u0444': 'f',\n",
    "    u'\\u0425': 'Kh', u'\\u0445': 'kh',\n",
    "    u'\\u0426': 'Ts', u'\\u0446': 'ts',\n",
    "    u'\\u0427': 'Ch', u'\\u0447': 'ch',\n",
    "    u'\\u0428': 'Sh', u'\\u0448': 'sh',\n",
    "    u'\\u0429': 'Shch', u'\\u0449': 'shch',\n",
    "    u'\\u042a': '\"', u'\\u044a': '\"',\n",
    "    u'\\u042b': 'Y', u'\\u044b': 'y',\n",
    "    u'\\u042c': \"'\", u'\\u044c': \"'\",\n",
    "    u'\\u042d': 'E', u'\\u044d': 'e',\n",
    "    u'\\u042e': 'Iu', u'\\u044e': 'iu',\n",
    "    u'\\u042f': 'Ia', u'\\u044f': 'ia', \n",
    "    u'\\u0401': 'Yo', u'\\u0451': 'yo'\n",
    "}\n",
    "\n",
    "def transliterate(word, translit_table):\n",
    "    converted_word = ''\n",
    "    for char in word:\n",
    "        transchar = ''\n",
    "        if char in translit_table:\n",
    "            transchar = translit_table[char]\n",
    "        elif char == \" \":\n",
    "            transchar = char\n",
    "        converted_word += transchar\n",
    "    return converted_word\n",
    "\n",
    "transliterate(u\"Чёрная дыра»\", cyrillic_translit)"
   ]
  },
  {
   "cell_type": "code",
   "execution_count": 289,
   "metadata": {},
   "outputs": [],
   "source": [
    "def to_unicode(s):    \n",
    "    return str(s.encode(\"raw_unicode_escape\"))[2:-1].replace(\":\", \"\").replace(\"|\", \"\").replace(\"\\\\\\\\\", \"\\\\\")\n",
    "\n",
    "def to_latin(s):\n",
    "    s = s.replace(\":\", \"\").replace(\"|\", \"\")\n",
    "    return transliterate(s, cyrillic_translit)\n",
    "\n",
    "def to_vw(data, label):\n",
    "    dt = datetime.strptime(data[\"published\"][\"$date\"][:-1], \"%Y-%m-%dT%H:%M:%S.%f\")\n",
    "    month = (dt.month - 1)/11\n",
    "    weekday = dt.weekday()/6\n",
    "    hour = dt.hour/23\n",
    "    out = [\n",
    "        label,\n",
    "        \"title {}\".format(to_unicode(data[\"title\"])),\n",
    "        \"tags {}\".format(to_unicode(\" \".join(data[\"tags\"]))),\n",
    "        \"domain {}\".format(data[\"domain\"]),\n",
    "        \"flow {}\".format(data[\"flow\"] if data[\"flow\"] else \"None\"),\n",
    "        \"author {}\".format(data[\"author\"][\"nickname\"]),\n",
    "        \"hubs {}\".format(to_unicode(\" \".join([d[\"title\"] for d in data[\"hubs\"]]))),\n",
    "        \"num content_len:{} month:{} dayofweek:{} hour:{}\\n\".format(\n",
    "            round(len(data_json[\"content\"])/1000000, 2), round(month, 4), round(weekday, 4), round(hour, 4))\n",
    "    ]\n",
    "    \n",
    "    return \" |\".join(out)\n",
    "\n",
    "assert to_latin(u\"Чёрная дыра»\") == \"Chyornaia dyra\""
   ]
  },
  {
   "cell_type": "code",
   "execution_count": 284,
   "metadata": {
    "collapsed": true
   },
   "outputs": [],
   "source": [
    "# file names\n",
    "\n",
    "OUT_TRAIN = 'scaled_habr_train.vw'\n",
    "OUT_VALID = 'habr_valid.vw'\n",
    "OUT_TEST = 'scaled_habr_test.vw'\n",
    "\n",
    "!OUT_TRAIN='scaled_habr_train.vw'\n",
    "!OUT_VALID='habr_valid.vw'\n",
    "!OUT_TEST='scaled_habr_test.vw'"
   ]
  },
  {
   "cell_type": "code",
   "execution_count": 292,
   "metadata": {},
   "outputs": [
    {
     "data": {
      "application/vnd.jupyter.widget-view+json": {
       "model_id": "40707df95c0c40d297045e90bce61b95"
      }
     },
     "metadata": {},
     "output_type": "display_data"
    },
    {
     "name": "stdout",
     "output_type": "stream",
     "text": [
      "\n",
      "CPU times: user 2min 45s, sys: 12.8 s, total: 2min 58s\n",
      "Wall time: 2min 57s\n"
     ]
    }
   ],
   "source": [
    "%%time\n",
    "# create train data\n",
    "\n",
    "from datetime import datetime\n",
    "import random\n",
    "\n",
    "n = 120000\n",
    "# n = 3\n",
    "\n",
    "with open(HW8_PATH + '/train.json') as inp_json, \\\n",
    "     open(HW8_PATH + '/' + OUT_TRAIN, 'w') as out_train:\n",
    "    for line in tqdm_notebook(inp_json):\n",
    "        data_json = json.loads(line)\n",
    "        \n",
    "        # Ваш код здесь\n",
    "        if n == 0: break\n",
    "        n -= 1\n",
    "         \n",
    "        label = train_target.loc[data_json[\"url\"]].to_string(index=False)\n",
    "        out = to_vw(data_json, label)        \n",
    "        out_train.write(out)"
   ]
  },
  {
   "cell_type": "code",
   "execution_count": 291,
   "metadata": {},
   "outputs": [
    {
     "name": "stdout",
     "output_type": "stream",
     "text": [
      "0.693147 |title \\u0421\\u0430\\u043c\\u043e\\u043f\\u0440\\u043e\\u0438\\u0437\\u0432\\u043e\\u043b\\u044c\\u043d\\u043e\\u0435 \\u0440\\u0430\\u0437\\u043b\\u043e\\u0433\\u0438\\u043d\\u0438\\u0432\\u0430\\u043d\\u0438\\u0435 |tags \\u043b\\u043e\\u0433\\u0438\\u043d login |domain habrahabr.ru |flow None |author @ptitov |hubs \\u0425\\u0430\\u0431\\u0440\\u0430\\u0445\\u0430\\u0431\\u0440 |num content_len:0.0 month:0.5455 dayofweek:0.8333 hour:0.0435\r\n",
      "1.098612 |title Stand-along c\\u043e\\u043e\\u0431\\u0449\\u0435\\u0441\\u0442\\u0432\\u0430 \\u043f\\u0440\\u043e\\u0442\\u0438\\u0432 \\u0441\\u043e\\u043e\\u0431\\u0449\\u0435\\u0441\\u0442\\u0432 \\u0432 \\u0440\\u0430\\u043c\\u043a\\u0430\\u0445 \\u0441\\u043e\\u0446\\u0438\\u0430\\u043b\\u044c\\u043d\\u044b\\u0445 \\u0441\\u0435\\u0442\\u0435\\u0439 |tags \\u0441\\u043e\\u043e\\u0431\\u0449\\u0435\\u0441\\u0442\\u0432\\u0430 \\u0438\\u043d\\u0442\\u0435\\u0440\\u043d\\u0435\\u0442-\\u0441\\u043e\\u043e\\u0431\\u0449\\u0435\\u0441\\u0442\\u0432\\u043e \\u0441\\u043e\\u0446\\u0438\\u0430\\u043b\\u044c\\u043d\\u044b\\u0435 \\u0441\\u0435\\u0442\\u0438 \\u043d\\u0438\\u0448\\u0435\\u0432\\u043e\\u0439 \\u0431\\u0440\\u0435\\u043d\\u0434 |domain geektimes.ru |flow None |author @AlexBruce |hubs \\u0427\\u0451\\u0440\\u043d\\u0430\\u044f \\u0434\\u044b\\u0440\\u0430 |num content_len:0.0 month:0.5455 dayofweek:0.8333 hour:0.6087\r\n",
      "0.0 |title \\u041a \\u043d\\u0430\\u043c \\u0441\\u043a\\u0443\\u043d\\u0441 \\u0437\\u0430\\u0445\\u043e\\u0434\\u0438\\u043b |tags \\u043a\\u0430\\u0440\\u043c\\u0430 \\u0433\\u043e\\u043b\\u043e\\u0441\\u043e\\u0432\\u0430\\u043d\\u0438\\u0435 \\u0441\\u043a\\u0443\\u043d\\u0441 |domain geektimes.ru |flow None |author @geraxe |hubs \\u0427\\u0451\\u0440\\u043d\\u0430\\u044f \\u0434\\u044b\\u0440\\u0430 |num content_len:0.0 month:0.5455 dayofweek:0.1667 hour:0.0435\r\n"
     ]
    }
   ],
   "source": [
    "!head -3 $HW8_PATH/$OUT_TRAIN"
   ]
  },
  {
   "cell_type": "code",
   "execution_count": 256,
   "metadata": {
    "collapsed": true
   },
   "outputs": [],
   "source": [
    "# split train into train and validation\n",
    "\n",
    "!split -l 100000 $HW8_PATH/$OUT_TRAIN $HW8_PATH/$OUT_TRAIN\"_\"\n",
    "\n",
    "!mv $HW8_PATH/$OUT_TRAIN\"_aa\" $HW8_PATH/$OUT_TRAIN\n",
    "!mv $HW8_PATH/$OUT_TRAIN\"_ab\" $HW8_PATH/$OUT_VALID"
   ]
  },
  {
   "cell_type": "code",
   "execution_count": 262,
   "metadata": {},
   "outputs": [
    {
     "name": "stdout",
     "output_type": "stream",
     "text": [
      "CPU times: user 0 ns, sys: 12 ms, total: 12 ms\n",
      "Wall time: 211 ms\n"
     ]
    }
   ],
   "source": [
    "%%time\n",
    "# from validation target file \n",
    "\n",
    "!cut -f 1 -d ' ' $HW8_PATH/$OUT_VALID > $HW8_PATH/habr_valid_target.txt"
   ]
  },
  {
   "cell_type": "markdown",
   "metadata": {},
   "source": [
    "Проделайте все то же с тестовой выборкой, вместо ответов подсовывая что угодно, например, единицы."
   ]
  },
  {
   "cell_type": "markdown",
   "metadata": {},
   "source": [
    "Выбор того, как валидировать модель, остается за Вами. Проще всего, конечно, сделать отложенную выборку. Бенчмарк, который Вы видите в соревновании (**vw_baseline.csv**) и который надо побить, получен с Vowpal Wabbit, 3 проходами по выборке (не забываем удалять кэш), биграммами и настроенными гиперпараметрами `bits`, `learning_rate` и `power_t`. "
   ]
  },
  {
   "cell_type": "code",
   "execution_count": 295,
   "metadata": {
    "scrolled": false
   },
   "outputs": [
    {
     "name": "stdout",
     "output_type": "stream",
     "text": [
      "Generating 2-grams for all namespaces.\n",
      "final_regressor = ../../data/hw8_vw//habr_model.vw\n",
      "Num weight bits = 28\n",
      "learning rate = 0.43\n",
      "initial_t = 0\n",
      "power_t = 0.17\n",
      "decay_learning_rate = 1\n",
      "creating cache_file = ../../data/hw8_vw//habr.cache\n",
      "Warning: you tried to make two write caches.  Only the first one will be made.\n",
      "Reading datafile = ../../data/hw8_vw//scaled_habr_train.vw\n",
      "num sources = 1\n",
      "average  since         example        example  current  current  current\n",
      "loss     last          counter         weight    label  predict features\n",
      "0.480453 0.480453            1            1.0   0.6931   0.0000       17\n",
      "0.374371 0.268289            2            2.0   1.0986   0.5806       39\n",
      "0.207948 0.041526            4            4.0   0.0000   0.1411       43\n",
      "3.950226 7.692504            8            8.0   4.9698   0.5465       43\n",
      "4.027346 4.104465           16           16.0   2.3026   1.8167       35\n",
      "4.090295 4.153244           32           32.0   2.8904   4.0504       25\n",
      "2.995788 1.901282           64           64.0   0.0000   1.8160       21\n",
      "2.324753 1.653717          128          128.0   5.1475   2.6297       25\n",
      "2.364099 2.403445          256          256.0   4.7707   3.8057       43\n",
      "2.102496 1.840894          512          512.0   3.1355   2.4016       31\n",
      "1.897491 1.692485         1024         1024.0   6.4785   5.0727       37\n",
      "1.751549 1.605608         2048         2048.0   5.7236   4.6797       43\n",
      "1.511764 1.271980         4096         4096.0   3.3322   3.2080       29\n",
      "1.362938 1.214112         8192         8192.0   4.1589   2.6647       49\n",
      "1.245805 1.128671        16384        16384.0   2.7081   3.9773       25\n",
      "1.055533 0.865262        32768        32768.0   4.1744   2.9284       45\n",
      "0.828796 0.602059        65536        65536.0   1.3863   2.2760       51\n",
      "0.875251 0.875251       131072       131072.0   4.9200   4.0113       35 h\n",
      "0.819017 0.762788       262144       262144.0   4.7362   4.7893       45 h\n",
      "\n",
      "finished run\n",
      "number of examples per pass = 108000\n",
      "passes used = 3\n",
      "weighted example sum = 324000.000000\n",
      "weighted label sum = 916555.591848\n",
      "average loss = 0.787036 h\n",
      "best constant = 2.828875\n",
      "total feature number = 12799215\n"
     ]
    }
   ],
   "source": [
    "# best model MAE=0.95048\n",
    "\n",
    "!rm $HW8_PATH/habr.cache \n",
    "!vw -d $HW8_PATH/$OUT_TRAIN \\\n",
    "  --loss_function squared --ngram 2 --passes 3 -c --cache_file $HW8_PATH/habr.cache \\\n",
    "  -b 28 -l 0.43 --power_t 0.17 \\\n",
    "  -f $HW8_PATH/habr_model.vw"
   ]
  },
  {
   "cell_type": "code",
   "execution_count": 294,
   "metadata": {},
   "outputs": [
    {
     "name": "stdout",
     "output_type": "stream",
     "text": [
      "Generating 2-grams for all namespaces.\n",
      "final_regressor = ../../data/hw8_vw//habr_model.vw\n",
      "Num weight bits = 28\n",
      "learning rate = 0.43\n",
      "initial_t = 0\n",
      "power_t = 0.17\n",
      "decay_learning_rate = 1\n",
      "creating cache_file = ../../data/hw8_vw//habr.cache\n",
      "Warning: you tried to make two write caches.  Only the first one will be made.\n",
      "Reading datafile = ../../data/hw8_vw//scaled_habr_train.vw\n",
      "num sources = 1\n",
      "average  since         example        example  current  current  current\n",
      "loss     last          counter         weight    label  predict features\n",
      "0.346574 0.346574            1            1.0   0.6931   0.0000       17\n",
      "0.318420 0.290266            2            2.0   1.0986   0.5181       39\n",
      "0.209217 0.100015            4            4.0   0.0000   0.1333       43\n",
      "0.681852 1.154486            8            8.0   4.9698   0.2675       43\n",
      "0.921427 1.161003           16           16.0   2.3026   0.7092       35\n",
      "1.235742 1.550056           32           32.0   2.8904   1.7273       25\n",
      "1.086853 0.937964           64           64.0   0.0000   1.2757       21\n",
      "0.880453 0.674054          128          128.0   5.1475   2.9520       25\n",
      "0.787118 0.693783          256          256.0   4.7707   3.8094       43\n",
      "0.689346 0.591574          512          512.0   3.1355   2.6519       31\n",
      "0.629864 0.570381         1024         1024.0   6.4785   4.6383       37\n",
      "0.578939 0.528014         2048         2048.0   5.7236   5.1470       43\n",
      "0.522971 0.467003         4096         4096.0   3.3322   3.3120       29\n",
      "0.485708 0.448445         8192         8192.0   4.1589   2.8096       49\n",
      "0.459870 0.434033        16384        16384.0   2.7081   3.6409       25\n",
      "0.415529 0.371187        32768        32768.0   4.1744   2.6623       45\n",
      "0.358946 0.302364        65536        65536.0   1.3863   2.1735       51\n",
      "0.371886 0.371886       131072       131072.0   4.9200   4.0162       35 h\n",
      "0.356655 0.341425       262144       262144.0   4.7362   4.7564       45 h\n",
      "\n",
      "finished run\n",
      "number of examples per pass = 108000\n",
      "passes used = 3\n",
      "weighted example sum = 324000.000000\n",
      "weighted label sum = 916555.591848\n",
      "average loss = 0.345951 h\n",
      "total feature number = 12799215\n"
     ]
    }
   ],
   "source": [
    "!rm $HW8_PATH/habr.cache \n",
    "!vw -d $HW8_PATH/$OUT_TRAIN \\\n",
    "  --loss_function quantile --ngram 2 --passes 3 -c --cache_file $HW8_PATH/habr.cache \\\n",
    "  -b 28 -l 0.43 --power_t 0.17 \\\n",
    "  -f $HW8_PATH/habr_model.vw"
   ]
  },
  {
   "cell_type": "code",
   "execution_count": 277,
   "metadata": {},
   "outputs": [
    {
     "data": {
      "text/plain": [
       "0.42947762150000007"
      ]
     },
     "execution_count": 277,
     "metadata": {},
     "output_type": "execute_result"
    }
   ],
   "source": [
    "# predict for validation and MAE\n",
    "\n",
    "!vw -i $HW8_PATH/habr_model.vw -t -d $HW8_PATH/$OUT_VALID \\\n",
    "-p $HW8_PATH/habr_valid_predictions.txt --quiet\n",
    "\n",
    "from sklearn.metrics import mean_absolute_error\n",
    "\n",
    "y_true = np.loadtxt(HW8_PATH + '/habr_valid_target.txt')\n",
    "y_pred = np.loadtxt(HW8_PATH + '/habr_valid_predictions.txt')\n",
    "\n",
    "mean_absolute_error(y_true, y_pred)"
   ]
  },
  {
   "cell_type": "code",
   "execution_count": 296,
   "metadata": {},
   "outputs": [
    {
     "name": "stdout",
     "output_type": "stream",
     "text": [
      "CPU times: user 0 ns, sys: 0 ns, total: 0 ns\n",
      "Wall time: 179 µs\n"
     ]
    },
    {
     "data": {
      "application/vnd.jupyter.widget-view+json": {
       "model_id": "84d5a4e65b5c4650a6f4cc720b61363d"
      }
     },
     "metadata": {},
     "output_type": "display_data"
    },
    {
     "name": "stdout",
     "output_type": "stream",
     "text": [
      "\n"
     ]
    }
   ],
   "source": [
    "%time\n",
    "# create test data\n",
    "\n",
    "n = 52913\n",
    "with open(HW8_PATH + '/test.json') as inp_json, \\\n",
    "     open(HW8_PATH + '/' + OUT_TEST, 'w') as out_vw:\n",
    "    for line in tqdm_notebook(inp_json):\n",
    "        data_json = json.loads(line)\n",
    "        \n",
    "        # Ваш код здесь\n",
    "        if n == 0: break     \n",
    "        n -= 1\n",
    "        \n",
    "        out = to_vw(data_json, \"1\") \n",
    "        out_vw.write(out)"
   ]
  },
  {
   "cell_type": "code",
   "execution_count": 297,
   "metadata": {
    "collapsed": true
   },
   "outputs": [],
   "source": [
    "# predict for test\n",
    "\n",
    "!vw -i $HW8_PATH/habr_model.vw -t -d $HW8_PATH/habr_test.vw \\\n",
    "-p $HW8_PATH/habr_test_predictions.txt --quiet"
   ]
  },
  {
   "cell_type": "code",
   "execution_count": 298,
   "metadata": {},
   "outputs": [],
   "source": [
    "# create submission\n",
    "\n",
    "sample_sub = pd.read_csv(HW8_PATH + '/sample_submission.csv', index_col='url')\n",
    "your_submission = sample_sub.copy()\n",
    "your_submission['target'] = np.loadtxt(HW8_PATH + '/habr_test_predictions.txt')\n",
    "your_submission.to_csv(HW8_PATH + '/submit/scaled_squared_b_28_l_0.43_t_0.17_120000.csv')"
   ]
  },
  {
   "cell_type": "code",
   "execution_count": 271,
   "metadata": {},
   "outputs": [
    {
     "data": {
      "text/plain": [
       "2.2946041099540757"
      ]
     },
     "execution_count": 271,
     "metadata": {},
     "output_type": "execute_result"
    }
   ],
   "source": [
    "# calc mean target\n",
    "\n",
    "!cut -f 1 -d ' ' $HW8_PATH/original_habr_train.vw > $HW8_PATH/original_habr_train_target.txt\n",
    "train_target = np.loadtxt(HW8_PATH + '/habr_test_predictions.txt')\n",
    "train_target.mean()"
   ]
  }
 ],
 "metadata": {
  "kernelspec": {
   "display_name": "Python 3",
   "language": "python",
   "name": "python3"
  },
  "language_info": {
   "codemirror_mode": {
    "name": "ipython",
    "version": 3
   },
   "file_extension": ".py",
   "mimetype": "text/x-python",
   "name": "python",
   "nbconvert_exporter": "python",
   "pygments_lexer": "ipython3",
   "version": "3.5.2"
  }
 },
 "nbformat": 4,
 "nbformat_minor": 2
}
